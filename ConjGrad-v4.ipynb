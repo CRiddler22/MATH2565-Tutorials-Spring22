{
 "cells": [
  {
   "cell_type": "markdown",
   "metadata": {},
   "source": [
    "# Lab 3: Conjugate Gradient / Newton's Method\n",
    "\n",
    "In this lab we will look at modifying a steepest descent code to carry out conjugate gradient, and using Newton's method to solve a nonlinear problem."
   ]
  },
  {
   "cell_type": "code",
   "execution_count": 1,
   "metadata": {},
   "outputs": [],
   "source": [
    "import numpy as np\n",
    "import matplotlib.pyplot as plt"
   ]
  },
  {
   "cell_type": "markdown",
   "metadata": {},
   "source": [
    "## Exercise 1\n",
    "Below is a copy of the code we used to solve a quadratic minimisation problem using steepest descent.  Modify the code so that it computes the solution using conjugate gradient.  As an example, consider the problem of minimising $f(\\boldsymbol x) = \\frac{1}{2} \\boldsymbol x^2 \\mathbf Q \\boldsymbol x - \\boldsymbol x^T\\boldsymbol b$, where\n",
    "\n",
    "$$\n",
    "\\mathbf Q = \\begin{bmatrix} 6 & 1 & 2 \\\\ 1 & 4 & 2 \\\\ 2 & 2 & 8 \\end{bmatrix}, \\qquad \\boldsymbol b = \\begin{bmatrix} 5 \\\\ 1 \\\\ 0 \\end{bmatrix}.\n",
    "$$\n",
    "\n",
    "Recall that in conjugate gradient, we do not always step in the direction of the negative gradient; instead, we compute the direction vectors\n",
    "$$\n",
    "\\boldsymbol d^{(0)} = -\\boldsymbol g^{(0)}, \\qquad \\boldsymbol d^{(k+1)} = -\\boldsymbol g^{(k+1)} + \\beta_k \\boldsymbol d^{(k)}, \\qquad \\beta_k = \\frac{\\boldsymbol g^{(k+1)T}\\mathbf Q\\boldsymbol d^{(k)T}}{\\boldsymbol d^{(k)T}\\mathbf Q\\boldsymbol d^{(k)T}}\n",
    "$$\n",
    "and step size\n",
    "$$\n",
    "\\alpha_k = -\\frac{\\boldsymbol g^{(k)T} \\boldsymbol d^{(k)}}{\\boldsymbol d^{(k)T}\\mathbf Q\\boldsymbol d^{(k)T}}.\n",
    "$$"
   ]
  },
  {
   "cell_type": "code",
   "execution_count": 2,
   "metadata": {},
   "outputs": [
    {
     "name": "stdout",
     "output_type": "stream",
     "text": [
      "[[6. 1. 2.]\n",
      " [1. 4. 2.]\n",
      " [2. 2. 8.]]\n",
      "[5. 1. 0.]\n"
     ]
    }
   ],
   "source": [
    "Q = np.array([[6., 1, 2],[1,4,2],[2,2,8]])\n",
    "b = np.array([5.,1,0])\n",
    "print(Q)\n",
    "print(b)"
   ]
  },
  {
   "cell_type": "code",
   "execution_count": 3,
   "metadata": {},
   "outputs": [
    {
     "data": {
      "text/plain": [
       "array([ 0.89473684,  0.15789474, -0.26315789])"
      ]
     },
     "execution_count": 3,
     "metadata": {},
     "output_type": "execute_result"
    }
   ],
   "source": [
    "np.linalg.solve(Q,b)"
   ]
  },
  {
   "cell_type": "code",
   "execution_count": 4,
   "metadata": {},
   "outputs": [
    {
     "name": "stdout",
     "output_type": "stream",
     "text": [
      "x = [ 0.89473633  0.15787727 -0.26315498] , iterations = 14, norm(g) = 6.740862287388354e-05\n"
     ]
    },
    {
     "data": {
      "image/png": "[encoded data removed]",
      "text/plain": [
       "<Figure size 432x288 with 1 Axes>"
      ]
     },
     "metadata": {
      "needs_background": "light"
     },
     "output_type": "display_data"
    }
   ],
   "source": [
    "#THIS CURRENTLY DOES STEEPEST DESCENT\n",
    "\n",
    "N = 100 #maximum no. of iterations\n",
    "epsilon = 1.e-4 #tolerance\n",
    "\n",
    "#Initial value\n",
    "x = np.zeros(3) # initial guess\n",
    "n = 0 #iteration count\n",
    "g  = np.dot(Q,x) - b\n",
    "gNorm = np.linalg.norm(g)\n",
    "\n",
    "#Create arrays to store result at each iteration\n",
    "xs = np.zeros([len(x),N+1]) #array for storing x values\n",
    "xs[:,0] = x #initial value\n",
    "\n",
    "while n < N and gNorm > epsilon:\n",
    "     \n",
    "    #make step\n",
    "    alpha = np.dot(g,g)/np.dot(g,np.dot(Q,g))\n",
    "    x = np.array(x - alpha*g)\n",
    "\n",
    "    #compute gradient\n",
    "    g = np.dot(Q,x) - b\n",
    "    gNorm = np.linalg.norm(g)\n",
    "    \n",
    "    #add one to iteration counter\n",
    "    n = n+1\n",
    "        \n",
    "    #Store computed value of x in matrix    \n",
    "    xs[:,n] = x\n",
    "\n",
    "#truncate unused elements in x array\n",
    "xs = xs[:,:n+1]\n",
    "\n",
    "print('x = ' + str(x), ', iterations = ' + str(n) + ', norm(g) = ' + str(gNorm))\n",
    "plt.plot(xs[0,],xs[1,])\n",
    "plt.show()"
   ]
  },
  {
   "cell_type": "code",
   "execution_count": 5,
   "metadata": {
    "scrolled": false
   },
   "outputs": [
    {
     "name": "stdout",
     "output_type": "stream",
     "text": [
      "x = [ 0.89473684  0.15789474 -0.26315789] , iterations = 3, norm(g) = 4.965068306494546e-16\n"
     ]
    }
   ],
   "source": [
    "#THIS DOES CONJUGATE GRADIENT\n",
    "\n",
    "N = 100 #maximum no. of iterations\n",
    "epsilon = 1.e-4 #tolerance\n",
    "\n",
    "#Initial value\n",
    "x = np.zeros(3) # initial guess\n",
    "n = 0 #iteration count\n",
    "g  = np.dot(Q,x) - b\n",
    "gNorm = np.linalg.norm(g)\n",
    "d=-g\n",
    "\n",
    "#Create arrays to store result at each iteration\n",
    "xt = np.zeros([len(x),N+1]) #array for storing x values\n",
    "xt[:,0] = x #initial value\n",
    "\n",
    "while n < N and gNorm > epsilon:\n",
    "     \n",
    "    #make step\n",
    "    alpha =-np.dot(g.transpose(),d)/np.dot(d.transpose(),np.dot(Q,d))\n",
    "    x = np.array(x + alpha*d)\n",
    "    \n",
    "    #compute gradient\n",
    "    g = np.dot(Q,x) - b\n",
    "    gNorm = np.linalg.norm(g)\n",
    "    beta=np.dot(g.transpose(),np.dot(Q,d))/np.dot(d.transpose(),np.dot(Q,d))\n",
    "    d=-g+beta*d\n",
    "    \n",
    "    #add one to iteration counter\n",
    "    n = n+1\n",
    "        \n",
    "    #Store computed value of x in matrix    \n",
    "    xt[:,n] = x\n",
    "\n",
    "#truncate unused elements in x array\n",
    "xt = xt[:,:n+1]\n",
    "\n",
    "print('x = ' + str(x), ', iterations = ' + str(n) + ', norm(g) = ' + str(gNorm))\n"
   ]
  },
  {
   "cell_type": "markdown",
   "metadata": {},
   "source": [
    "Check that the solution has converged to the exact answer in the appropriate number of iterations."
   ]
  },
  {
   "cell_type": "code",
   "execution_count": 6,
   "metadata": {},
   "outputs": [
    {
     "data": {
      "image/png": "[encoded data removed]",
      "text/plain": [
       "<Figure size 432x288 with 1 Axes>"
      ]
     },
     "metadata": {
      "needs_background": "light"
     },
     "output_type": "display_data"
    }
   ],
   "source": [
    "plt.plot(xs[0,],xs[1,])\n",
    "plt.plot(xt[0,],xt[1,])\n",
    "plt.show()"
   ]
  },
  {
   "cell_type": "markdown",
   "metadata": {},
   "source": [
    "We will now look at Newton's method, which is relevant for non-quadratic optimisation problems (that is, solving nonlinear systems).\n",
    "\n",
    "## Exercise 2\n",
    "\n",
    "Consider the optimisation problem:\n",
    "\n",
    "Minimise \n",
    "$$ f(x_1,x_2) = \\frac{1}{2}\\sin(2x_1) + x_1x_2 + \\mathrm e^{x_2^2}.\n",
    "$$\n",
    "\n",
    "(a) Define function gfun and Ffun that evaluate the gradient and Hessian at a given $x$ (use pen and paper to work out these functions).\n",
    "\n",
    "(b) Copy and modify the conjugate gradient code above to perform Newton's method.  Run the algorithm from a starting point $(x_1^{(0)}, x_2^{(0)}) = (0,0)$.  Can you find different solutions from different starting points?\n",
    "\n",
    "Note that every step of Newton's method requires us to solve a linear system.  We will use `np.linalg.solve` in this case.  In the \"real world\", a method such as conjugate gradient could be used to iteratively solve this linear problem at each step of Newton's method!"
   ]
  },
  {
   "cell_type": "code",
   "execution_count": 7,
   "metadata": {},
   "outputs": [
    {
     "data": {
      "text/plain": [
       "array([[1.],\n",
       "       [0.]])"
      ]
     },
     "execution_count": 7,
     "metadata": {},
     "output_type": "execute_result"
    }
   ],
   "source": [
    "def gFun(x1,x2):\n",
    "    g1=np.cos(2*x1)+x2\n",
    "    g2=x1+2*x2*np.exp(x2**2)\n",
    "    g=np.array([[g1,g2]])\n",
    "    return np.transpose(g)\n",
    "\n",
    "gFun(0,0)"
   ]
  },
  {
   "cell_type": "code",
   "execution_count": 8,
   "metadata": {},
   "outputs": [
    {
     "data": {
      "text/plain": [
       "[[-0.0, 1], [1, 2.0]]"
      ]
     },
     "execution_count": 8,
     "metadata": {},
     "output_type": "execute_result"
    }
   ],
   "source": [
    "def Ffun(x1,x2):\n",
    "    a=-2*(np.sin(2*x1))\n",
    "    b=1\n",
    "    c=1\n",
    "    d=(2+4*x2**2)*(np.exp(x2**2))\n",
    "    F=[[a,b],[c,d]]\n",
    "    return F\n",
    "    \n",
    "Ffun(0,0)"
   ]
  },
  {
   "cell_type": "code",
   "execution_count": 10,
   "metadata": {},
   "outputs": [
    {
     "name": "stdout",
     "output_type": "stream",
     "text": [
      "x = (2.796648470743087, -0.7713171652118586) , iterations = 6, norm(g) = 9.600839374001427e-08\n"
     ]
    }
   ],
   "source": [
    "#THIS DOES NEWTON METHOD\n",
    "\n",
    "N = 100 #maximum no. of iterations\n",
    "epsilon = 1.e-4 #tolerance\n",
    "\n",
    "#Initial value\n",
    "x1=0 #initial guess\n",
    "x2=0 # initial guess\n",
    "X=[[x1],[x2]]\n",
    "n = 0 #iteration count\n",
    "g  = gFun(x1,x2)\n",
    "gNorm = np.linalg.norm(g)\n",
    "H=np.linalg.inv(Ffun(x1,x2))\n",
    "\n",
    "\n",
    "#Create arrays to store result at each iteration\n",
    "xc = np.zeros([len(X),N+1]) #array for storing x values\n",
    "xc[:,0] = (x1,x2) #initial value\n",
    "\n",
    "while n < N and gNorm > epsilon:\n",
    "     \n",
    "    #make step\n",
    "    X=X-H@g\n",
    "    x1=X[0,0]\n",
    "    x2=X[1,0]\n",
    "    g=gFun(x1,x2)\n",
    "    H=np.linalg.inv(Ffun(x1,x2))\n",
    "    gNorm=np.linalg.norm(g)\n",
    "    \n",
    "    \n",
    "    #add one to iteration counter\n",
    "    n = n+1\n",
    "        \n",
    "    #Store computed value of x in matrix    \n",
    "    xc[:,n] = (x1,x2)\n",
    "\n",
    "#truncate unused elements in x array\n",
    "xc = xc[:,:n+1]\n",
    "\n",
    "print('x = ' + str((x1,x2)), ', iterations = ' + str(n) + ', norm(g) = ' + str(gNorm))\n"
   ]
  }
 ],
 "metadata": {
  "kernelspec": {
   "display_name": "Python 3",
   "language": "python",
   "name": "python3"
  },
  "language_info": {
   "codemirror_mode": {
    "name": "ipython",
    "version": 3
   },
   "file_extension": ".py",
   "mimetype": "text/x-python",
   "name": "python",
   "nbconvert_exporter": "python",
   "pygments_lexer": "ipython3",
   "version": "3.7.6"
  }
 },
 "nbformat": 4,
 "nbformat_minor": 2
}
