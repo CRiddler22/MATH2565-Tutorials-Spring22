{
 "cells": [
  {
   "cell_type": "markdown",
   "metadata": {},
   "source": [
    "# Genetic algorithms\n",
    "In this lab we will use a genetic algorithm to attack a 'toy', but still highly nontrivial, discrete optimisation problem.  The main task will be to write functions that do each of the component parts of the genetic algorithm."
   ]
  },
  {
   "cell_type": "code",
   "execution_count": 847,
   "metadata": {
    "collapsed": true
   },
   "outputs": [],
   "source": [
    "import numpy as np\n",
    "from numpy.linalg import det\n",
    "import matplotlib.pyplot as plt"
   ]
  },
  {
   "cell_type": "markdown",
   "metadata": {},
   "source": [
    "## Hadamard's maximal determinant problem\n",
    "\n",
    "The following problem was first examined by Hadamard.  Suppose we have an $N\\times N$ matrix $M$, where each element of $M$ can only be either 0 or 1.  For example, if $N=3$, $M$ could be\n",
    "$$\n",
    "M = \\begin{bmatrix} 1 & 0 & 1 \\\\ 0 & 0 & 1 \\\\ 1& 1 & 1 \\end{bmatrix}.\n",
    "$$\n",
    "\n",
    "The question is: for a given size $N$, what is the largest possible <i>determinant</i> of $M$? How do we find a matrix that has this largest determinant?\n",
    "\n",
    "Some results are known for matrices of specific sizes, and brute force allows for results for small $N$, but the general case is an open question.  The first unknown value is for matrices of size $N=21$.\n",
    "\n",
    "The first 20 known values are summarised below*:\n",
    "\n",
    "| $N$ | 1 | 2 | 3 | 4 | 5 | 6 |7 | 8 | 9 | 10 | 11 | 12 | 13 | 14 |\n",
    "| --- | --- | --- | --- | --- | --- | --- | --- |  --- | --- | --- | --- |  --- | --- | --- |\n",
    "|$\\det(M)$ | 1 | 1 | 2 | 3 | 5 | 9 | 32 | 56 | 144 | 320 | 1458 |  9477 | 25515 | 3645 |\n",
    "\n",
    "| $N$ | 15 | 16 | 17 | 18 | 19 | 20 |\n",
    "| --- | --- | --- | --- | --- | --- | --- |\n",
    "|$\\det(M)$ | 131072 | 327680 | 1114112 | 3411968 | 19531250 | 56640625 |\n",
    "\n",
    "\n",
    "$*$ - Sloane's A003432 : Hadamard maximal determinant problem: largest determinant of a (real) ${0,1}$-matrix of order $n$. The On-Line Encyclopedia of Integer Sequences. OEIS Foundation.\n",
    "\n",
    "In Python we can evaluate the determinant using `det` function in the `numpy.linalg` module."
   ]
  },
  {
   "cell_type": "code",
   "execution_count": 848,
   "metadata": {},
   "outputs": [
    {
     "name": "stdout",
     "output_type": "stream",
     "text": [
      "[[0 1 0 0 0 1 0 1 1 0]\n",
      " [0 0 0 1 1 0 1 0 0 0]\n",
      " [0 1 1 1 0 0 0 0 0 1]\n",
      " [1 0 0 0 1 1 0 1 0 1]\n",
      " [0 1 1 0 0 1 0 1 0 0]\n",
      " [1 0 1 1 0 1 0 1 0 1]\n",
      " [0 1 0 0 0 1 1 1 0 0]\n",
      " [1 0 0 1 0 0 1 1 1 1]\n",
      " [0 0 1 0 1 0 0 0 0 1]\n",
      " [0 1 1 1 0 1 1 0 1 1]]\n"
     ]
    }
   ],
   "source": [
    "p = np.random.randint(2, size=(10,10))\n",
    "print(p)"
   ]
  },
  {
   "cell_type": "markdown",
   "metadata": {},
   "source": [
    "The main aim of this tutorial will be to develop a genetic algorithm that attempts to find an maximal determinant for a given size of matrix $N$.  Recall that the main steps in the genetic algorithm are:\n",
    "\n",
    "1. Selection (choose the 'fitter' chromosomes for the crossover stage),\n",
    "2. Crossover ('mating': repopulate the population with mixed versions of the chromosomes picked by selection),\n",
    "3. Mutation (with a small probability, change some of the elements of each chromosome).\n",
    "\n",
    "To implement these operations, let's define three Python functions that compute the cost of a chromosome, perform a crossover between two chromosomes at a point $X$, and mutate a chromosome and a certain point $X$.\n",
    "\n",
    "# Exercise 1\n",
    "Try to write three functions:\n",
    "1. `costFun(p,N)`, that computes the cost of a chromosome (that is, the determinant of `p`, written in Matrix form)\n",
    "2. `mutateFun(p,X)`, that mutates a chromosome `p` at a point X and returns the new chromosome `q`\n",
    "3. `crossFun(p1,p2,X)`, that crosses over `p1` and `p2` at X and returns new chromosomes `q1` and `q2`\n",
    "\n",
    "Note that we want to input chromosomes as one dimensional arrays (that is, $N^2 \\times 1$ vectors, rather than $N\\times N$ matrices).  The `reshape` command will be useful here (e.g., try `p.reshape(N,N)` to turn a vector into a matrix).\n",
    "\n",
    "You should make sure these functions do what you expect before trying to run the genetic algorithm (e.g, try calling them with some random or made up chromosomes and see what happens)."
   ]
  },
  {
   "cell_type": "code",
   "execution_count": 849,
   "metadata": {},
   "outputs": [
    {
     "name": "stdout",
     "output_type": "stream",
     "text": [
      "[1 0 0 0 0 1 1 0 0 1 1 1 1 0 0 1 0 0 1 1 1 0 0 1 1 1 0 1 1 0 0 1 1 1 0 1 1\n",
      " 1 0 0 1 0 0 0 0 1 1 0 1 0 0 0 0 0 0 1 0 0 1 1 1 1 0 1 0 1 1 0 1 0 1 0 0 1\n",
      " 0 0 1 1 1 1 0 1 1 1 0 1 1 0 0 0 0 0 0 0 1 1 1 1 0 1]\n"
     ]
    }
   ],
   "source": [
    "#Chromosomes will be of this form, e.g. for N=5\n",
    "N = 10\n",
    "p = np.random.randint(2, size=(N**2))\n",
    "print(p)"
   ]
  },
  {
   "cell_type": "code",
   "execution_count": 850,
   "metadata": {},
   "outputs": [],
   "source": [
    "def costFun(p, N):\n",
    "    '''costFun computes the cost of a given chromosome'''\n",
    "    c = 0\n",
    "    return c"
   ]
  },
  {
   "cell_type": "code",
   "execution_count": 851,
   "metadata": {},
   "outputs": [
    {
     "data": {
      "text/plain": [
       "-15.999999999999998"
      ]
     },
     "execution_count": 851,
     "metadata": {},
     "output_type": "execute_result"
    }
   ],
   "source": [
    "def costFun(p,N):\n",
    "    pnew=p.reshape(N,N)\n",
    "    c=np.linalg.det(pnew)\n",
    "    return c\n",
    "\n",
    "costFun(p,N)"
   ]
  },
  {
   "cell_type": "code",
   "execution_count": 852,
   "metadata": {},
   "outputs": [],
   "source": [
    "def mutateFun(p,X):\n",
    "    '''mutateFun mutates a chromosome at a point X'''\n",
    "    q = 0\n",
    "    return q"
   ]
  },
  {
   "cell_type": "code",
   "execution_count": 853,
   "metadata": {},
   "outputs": [
    {
     "name": "stdout",
     "output_type": "stream",
     "text": [
      "[0 0 0 0 0 1 1 0 0 1 1 1 1 0 0 1 0 0 1 1 1 0 0 1 1 1 0 1 1 0 0 1 1 1 0 1 1\n",
      " 1 0 0 1 0 0 0 0 1 1 0 1 0 0 0 0 0 0 1 0 0 1 1 1 1 0 1 0 1 1 0 1 0 1 0 0 1\n",
      " 0 0 1 1 1 1 0 1 1 1 0 1 1 0 0 0 0 0 0 0 1 1 1 1 0 1]\n"
     ]
    }
   ],
   "source": [
    "def mutateFun(p,X):\n",
    "    p[X]=(p[X]-1)%2\n",
    "    return p\n",
    "\n",
    "print(mutateFun(p,0))"
   ]
  },
  {
   "cell_type": "code",
   "execution_count": 854,
   "metadata": {},
   "outputs": [],
   "source": [
    "def crossFun(p1,p2,X):\n",
    "    '''crossFun performs a crossover between two parent chromosomes'''\n",
    "    q1 = 0\n",
    "    q2 = 0\n",
    "    return q1, q2"
   ]
  },
  {
   "cell_type": "code",
   "execution_count": 855,
   "metadata": {
    "scrolled": false
   },
   "outputs": [
    {
     "name": "stdout",
     "output_type": "stream",
     "text": [
      "([1, 1, 0, 0, 1, 1, 1, 1, 1, 1, 0, 1, 1, 0, 1, 0, 1, 0, 1, 0, 1, 0, 1, 1, 0, 1, 0, 0, 1, 0, 0, 1, 0, 1, 1, 1, 0, 1, 1, 1, 1, 0, 1, 1, 1, 0, 0, 1, 0, 1, 0, 1, 1, 0, 0, 0, 1, 1, 0, 1, 0, 1, 1, 1, 1, 1, 0, 1, 1, 0, 0, 0, 1, 0, 1, 1, 1, 1, 0, 0, 1, 0, 0, 0, 0, 0, 0, 1, 1, 0, 1, 0, 1, 0, 0, 0, 0, 1, 0, 1], [0, 1, 0, 0, 0, 1, 1, 0, 1, 0, 1, 1, 0, 0, 0, 1, 0, 0, 0, 0, 0, 1, 0, 1, 0, 1, 0, 0, 1, 1, 1, 0, 0, 1, 0, 1, 0, 1, 1, 1, 0, 0, 1, 1, 1, 1, 1, 1, 0, 0, 0, 0, 0, 0, 1, 1, 1, 0, 0, 1, 0, 0, 0, 0, 0, 0, 1, 1, 0, 1, 1, 1, 0, 0, 1, 1, 0, 0, 1, 0, 1, 1, 1, 1, 0, 0, 1, 0, 0, 1, 0, 1, 1, 0, 0, 0, 1, 0, 0, 1])\n"
     ]
    }
   ],
   "source": [
    "p1 = np.random.randint(2, size=(N**2))\n",
    "p2 = np.random.randint(2, size=(N**2))\n",
    "def crossFun(p1,p2,X):\n",
    "    c1=[]\n",
    "    c2=[]\n",
    "    c1.append([*p1[0:X+1],*p2[X+1:N**2]])\n",
    "    c2.append([*p2[0:X+1],*p1[X+1:N**2]])\n",
    "    c1=c1[0]\n",
    "    c2=c2[0]\n",
    "    return c1,c2\n",
    "\n",
    "print(crossFun(p1,p2,80))"
   ]
  },
  {
   "cell_type": "markdown",
   "metadata": {},
   "source": [
    "# Exercise 2\n",
    "\n",
    "If you have successfully defined the three functions above, the below function will run the algorithm to minimise the cost function using a genetic algorithm.  You may want to try to understand how this code works, make it more efficient, or see if you can write your own."
   ]
  },
  {
   "cell_type": "code",
   "execution_count": 856,
   "metadata": {
    "collapsed": true
   },
   "outputs": [],
   "source": [
    "def runAlgorithm(N, nPop=100, nGen=100, mutateProb = 0.1):\n",
    "    '''runAlgorithm runs the genetic algorithm to compute a matrix of maximal determinant'''\n",
    "    \n",
    "    #Initialise with random chromosomes\n",
    "    P = np.random.randint(2, size=(N**2,nPop))\n",
    "    M = np.zeros((N**2,nPop))\n",
    "    costs = np.zeros(nPop)\n",
    "\n",
    "    #Initial costs\n",
    "    for k in range(nPop):\n",
    "        costs[k] = costFun(P[:,k], N)\n",
    "\n",
    "    #Save the best chromosome so far\n",
    "    cBest = min(costs)      \n",
    "    pBest = np.array(P[:,np.argmin(costs)])\n",
    "\n",
    "    #Loop over generations\n",
    "    for j in range(nGen):\n",
    "\n",
    "        #Selection: Tournament\n",
    "        for k in range(nPop):\n",
    "            i1, i2 = np.random.randint(nPop), np.random.randint(nPop)\n",
    "            if costs[i1] < costs[i2]:\n",
    "                M[:,k] = P[:,i1]\n",
    "            else:\n",
    "                M[:,k] = P[:,i2]\n",
    "\n",
    "        #Crossover\n",
    "        for k in range(0,nPop,2):\n",
    "            X = np.random.randint(N**2)\n",
    "            (P[:,k], P[:,k+1]) = crossFun(M[:,k], M[:,k+1], X)\n",
    "\n",
    "        #Mutation\n",
    "        for k in range(nPop):\n",
    "            m = np.random.random()\n",
    "            if m < mutateProb:\n",
    "                X = np.random.randint(N**2)\n",
    "                P[:,k] = mutateFun(P[:,k], X) \n",
    "\n",
    "        #Compute new vector of costs\n",
    "        for k in range(nPop):\n",
    "            costs[k] = costFun(P[:,k], N)\n",
    "\n",
    "        #if a new best chromosome found, update\n",
    "        if min(costs) < cBest:\n",
    "            cBest = min(costs)      \n",
    "            pBest = np.array(P[:,np.argmin(costs)])\n",
    "            print('Generation ' + str(j) + ': New minimum:' + str(cBest))\n",
    "\n",
    "    #Reshape chromosome back into matrix\n",
    "    pBest = pBest.reshape(N,N)\n",
    "    \n",
    "    #Return the optimal determinant found and the matrix that goes with it\n",
    "    return(cBest, pBest)"
   ]
  },
  {
   "cell_type": "markdown",
   "metadata": {},
   "source": [
    "Try to run the algorithm to compute some matrices with maximal (or at least, close to maximal) determinant.  Note that the code has three numerical parameters, whose default values are set in the function: `nGen` (the number of generations to run), `nPop` (the number of chromosomes in the population), and `mutateProb` (the probability of each chromosome mutating each generation).  See if changing these values effects the value of the solution you obtain."
   ]
  },
  {
   "cell_type": "code",
   "execution_count": 857,
   "metadata": {},
   "outputs": [
    {
     "name": "stdout",
     "output_type": "stream",
     "text": [
      "Generation 1: New minimum:-46.0\n",
      "Generation 24: New minimum:-51.0\n",
      "Generation 27: New minimum:-52.0\n",
      "Generation 28: New minimum:-60.0\n",
      "Generation 31: New minimum:-62.0\n",
      "Generation 33: New minimum:-65.0\n",
      "Generation 37: New minimum:-68.0\n",
      "Generation 38: New minimum:-80.0\n",
      "Generation 40: New minimum:-84.0\n",
      "Generation 42: New minimum:-100.0\n",
      "Generation 43: New minimum:-100.0\n",
      "Generation 44: New minimum:-104.0\n",
      "Generation 47: New minimum:-114.0\n",
      "Generation 48: New minimum:-126.0\n",
      "Generation 49: New minimum:-138.0\n",
      "Generation 51: New minimum:-150.0\n",
      "Generation 52: New minimum:-152.0\n",
      "Generation 56: New minimum:-188.0\n",
      "Generation 58: New minimum:-196.0\n",
      "Generation 59: New minimum:-212.0\n",
      "Generation 65: New minimum:-228.0\n",
      "Generation 68: New minimum:-240.0\n",
      "Generation 74: New minimum:-264.0\n",
      "Generation 87: New minimum:-264.0\n",
      "[[1 1 0 0 1 0 1 0 1 0]\n",
      " [1 0 0 1 1 0 0 1 0 1]\n",
      " [1 0 1 0 0 0 1 0 0 1]\n",
      " [1 1 1 0 0 1 0 1 0 0]\n",
      " [0 0 1 0 1 1 1 1 1 0]\n",
      " [1 0 1 1 0 0 0 1 1 0]\n",
      " [1 0 0 1 0 1 0 0 1 1]\n",
      " [0 1 1 0 1 0 0 0 1 1]\n",
      " [0 1 0 1 0 0 1 1 1 1]\n",
      " [0 1 1 1 1 0 1 0 0 0]]\n",
      "-264.0\n"
     ]
    }
   ],
   "source": [
    "cBest, pBest = runAlgorithm(10, nPop = 100, nGen=100, mutateProb = 0.1)\n",
    "print(pBest)\n",
    "print(cBest)"
   ]
  },
  {
   "cell_type": "code",
   "execution_count": null,
   "metadata": {
    "collapsed": true
   },
   "outputs": [],
   "source": []
  },
  {
   "cell_type": "code",
   "execution_count": null,
   "metadata": {
    "collapsed": true
   },
   "outputs": [],
   "source": []
  },
  {
   "cell_type": "markdown",
   "metadata": {},
   "source": [
    "One way to visualise a matrix is with what's known as a sparsity plot.  This plot makes a black square wherever there is a nonzero element of a matrix: "
   ]
  },
  {
   "cell_type": "code",
   "execution_count": 858,
   "metadata": {},
   "outputs": [
    {
     "data": {
      "image/png": "[encoded data removed]",
      "text/plain": [
       "<matplotlib.figure.Figure at 0x16ef492d630>"
      ]
     },
     "metadata": {},
     "output_type": "display_data"
    }
   ],
   "source": [
    "plt.spy(pBest)\n",
    "plt.show()"
   ]
  },
  {
   "cell_type": "markdown",
   "metadata": {},
   "source": [
    "If you are comfortable with the code for the genetic algorithm you could try to extend it a number of ways, for example:\n",
    "* Change the selection scheme to Roulette rather than tournament,\n",
    "* Change the crossover scheme to two or multi-point crossover,\n",
    "* Adapt the cost and crossover functions appropriate for travelling salesperson problems."
   ]
  },
  {
   "cell_type": "code",
   "execution_count": null,
   "metadata": {
    "collapsed": true
   },
   "outputs": [],
   "source": []
  }
 ],
 "metadata": {
  "kernelspec": {
   "display_name": "Python 3",
   "language": "python",
   "name": "python3"
  },
  "language_info": {
   "codemirror_mode": {
    "name": "ipython",
    "version": 3
   },
   "file_extension": ".py",
   "mimetype": "text/x-python",
   "name": "python",
   "nbconvert_exporter": "python",
   "pygments_lexer": "ipython3",
   "version": "3.7.6"
  }
 },
 "nbformat": 4,
 "nbformat_minor": 2
}
