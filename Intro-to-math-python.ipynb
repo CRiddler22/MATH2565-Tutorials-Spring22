{
 "cells": [
  {
   "cell_type": "markdown",
   "metadata": {},
   "source": [
    "# Numpy and Sympy for Calculus\n",
    "\n",
    "Two useful packages for doing calculus in Python are Numpy (which allows for numerical computations) and Sympy (which supports symbolic manipulation). These can be used without any prior experience programming in Python (or at all), especially in the Jupyter notebook format, where code snippets can be provided for you to edit and run as needed.\n",
    "\n",
    "A great resource for using Python in mathematics is the [website of Patrick Walls at UBC](https://personal.math.ubc.ca/~pwalls/math-python/). In particular, you will find resources there on how to do root finding, numerical integration, and differential equations.\n",
    "\n",
    "## Numpy\n",
    "\n",
    "Often Numpy is used together with Matplotlib: we load these into Python as follows:"
   ]
  },
  {
   "cell_type": "code",
   "execution_count": 17,
   "metadata": {},
   "outputs": [],
   "source": [
    "import numpy as np\n",
    "import matplotlib.pyplot as plt\n",
    "%matplotlib inline"
   ]
  },
  {
   "cell_type": "markdown",
   "metadata": {},
   "source": [
    "The `import as` creates a prefix that allows us to call functions specific to each library. This can be important when multiple Python libraries are in use, because each might have a different definition of a particular function.\n",
    "\n",
    "Numpy defines all the common [mathematical functions](https://numpy.org/doc/stable/reference/routines.math.html) you'll need, such as the sine function. We would call the function $\\sin(x)$ using `np.sin` (note the `np` prefix). Here is how we would calculate the sine of an angle:"
   ]
  },
  {
   "cell_type": "code",
   "execution_count": 18,
   "metadata": {},
   "outputs": [
    {
     "ename": "NameError",
     "evalue": "name 'pi' is not defined",
     "output_type": "error",
     "traceback": [
      "\u001b[0;31m---------------------------------------------------------------------------\u001b[0m",
      "\u001b[0;31mNameError\u001b[0m                                 Traceback (most recent call last)",
      "\u001b[0;32m<ipython-input-18-4b581fed3229>\u001b[0m in \u001b[0;36m<module>\u001b[0;34m\u001b[0m\n\u001b[0;32m----> 1\u001b[0;31m \u001b[0mnp\u001b[0m\u001b[0;34m.\u001b[0m\u001b[0msin\u001b[0m\u001b[0;34m(\u001b[0m\u001b[0mpi\u001b[0m\u001b[0;34m/\u001b[0m\u001b[0;36m3\u001b[0m\u001b[0;34m)\u001b[0m\u001b[0;34m\u001b[0m\u001b[0;34m\u001b[0m\u001b[0m\n\u001b[0m",
      "\u001b[0;31mNameError\u001b[0m: name 'pi' is not defined"
     ]
    }
   ],
   "source": [
    "np.sin(pi/3)"
   ]
  },
  {
   "cell_type": "markdown",
   "metadata": {},
   "source": [
    "Did that not work? It's because `pi` is not a core object in Python! It's defined in Numpy though. Try replacing `pi` with `np.pi` and re-running the cell above.\n",
    "\n",
    "Now let's try plotting. First we have to define a function to plot."
   ]
  },
  {
   "cell_type": "code",
   "execution_count": null,
   "metadata": {
    "hidden": false
   },
   "outputs": [],
   "source": [
    "def f(x):\n",
    "    return np.sin(x)"
   ]
  },
  {
   "cell_type": "markdown",
   "metadata": {
    "hidden": false
   },
   "source": [
    "A faster way to define our function is to use Python's `lambda` syntax. We also could have done\n",
    "```\n",
    "f = lambda x : np.sin(x)\n",
    "```\n",
    "\n",
    "Plotting takes more than just defining the funciton -- we also have to define the input and output variables!\n",
    "\n",
    "The `linspace` command in Numpy produces a set of evenly spaced values. Here's how we set 100 points between $-\\pi$ and $\\pi$:"
   ]
  },
  {
   "cell_type": "code",
   "execution_count": null,
   "metadata": {
    "hidden": false
   },
   "outputs": [],
   "source": [
    "x = np.linspace(-np.pi,np.pi,100)"
   ]
  },
  {
   "cell_type": "markdown",
   "metadata": {
    "hidden": false
   },
   "source": [
    "Next, we can define $y$ as a function of $x$, and plot."
   ]
  },
  {
   "cell_type": "code",
   "execution_count": null,
   "metadata": {
    "hidden": false
   },
   "outputs": [],
   "source": [
    "y = f(x)\n",
    "plt.plot(x,y)"
   ]
  },
  {
   "cell_type": "markdown",
   "metadata": {},
   "source": [
    "The `numpy.array` object is the basic numpy version of a vector or matrix. These can be explicitly defined by `M = np.array([...])`, as well as loaded in from an external file, etc. Rows/columns of an array may be extracted by `M[:,0]`,`M[0,:]`, etc. A useful Python shortcut is to use -1 to refer to the last row/column in an array, e.g. `M[:,-1]`. These can also be used to overwrite parts of an array. Note that, as with lists, the command `M1 = M` doesn’t define a new array, simply a new name that points to the old array. If you need to make a new array with the same elements as `M`, use `M1 = np.array(M)`. "
   ]
  },
  {
   "cell_type": "code",
   "execution_count": null,
   "metadata": {},
   "outputs": [],
   "source": [
    "M = np.array([[2.,3,0],[1,2,2],[0,2,4]])\n",
    "b = np.array([1.,1,0])\n",
    "print(M,b)\n",
    "M1 = np.array(M)\n",
    "M1[:,-1] = b\n",
    "print(M1)"
   ]
  },
  {
   "cell_type": "markdown",
   "metadata": {},
   "source": [
    "Numpy has a number of key features built in that manipulate the arrays:\n",
    "- `reshape` changes the dimensions of the array;\n",
    "- `concatenate` joins multiple arrays;\n",
    "- `split` partitions the array at specified points.\n",
    "\n",
    "Many of these techniques are useful in Numerical Analysis and can be used to implement methods such as Gaussian Elimination, Simplex, and Genetic algorithms.\n",
    "\n",
    "In summary, every calculation using Numpy is numeric and made for very fast computing. So it is most useful for engineers and numerical analysts who use very large matrices.\n",
    "\n",
    "### Challenge\n",
    "\n",
    "1. Plot  $\\cos{x}$ for $x \\in [-\\pi, \\pi]$.\n",
    "2. Resize any matrix using `reshape` (you may need to use Google to help you)."
   ]
  },
  {
   "cell_type": "markdown",
   "metadata": {
    "hidden": false
   },
   "source": [
    "## SciPy\n",
    "\n",
    "Scientific Python is a library that extends the functionality of NumPy (which was mostly written with linear algebra in mind).\n",
    "\n",
    "For example, it has a number of ways of doing [numerical integration](https://docs.scipy.org/doc/scipy/reference/tutorial/integrate.html).\n",
    "\n",
    "## SymPy\n",
    "\n",
    "SymPy allows for symbolic manipulation. It's also really nice to use in a Jupyter notebook, because you can get the output to display as nicely formatted mathematics, using the `init_printing()` function."
   ]
  },
  {
   "cell_type": "code",
   "execution_count": null,
   "metadata": {
    "hidden": false
   },
   "outputs": [],
   "source": [
    "import sympy as sy\n",
    "sy.init_printing()"
   ]
  },
  {
   "cell_type": "markdown",
   "metadata": {
    "hidden": false
   },
   "source": [
    "A common first step is to tell SymPy that you're going to use x and y as variables:"
   ]
  },
  {
   "cell_type": "code",
   "execution_count": null,
   "metadata": {
    "hidden": false
   },
   "outputs": [],
   "source": [
    "x, y = sy.symbols('x y')"
   ]
  },
  {
   "cell_type": "markdown",
   "metadata": {
    "hidden": false
   },
   "source": [
    "When using mathematical functions, we need to make sure we're using the SymPy version. We can define functions of one or more variables:"
   ]
  },
  {
   "cell_type": "code",
   "execution_count": null,
   "metadata": {
    "hidden": false
   },
   "outputs": [],
   "source": [
    "f = (x**2)*sy.sin(2*x)\n",
    "g = x*y*sy.exp(4*x*y)\n",
    "f,g"
   ]
  },
  {
   "cell_type": "markdown",
   "metadata": {
    "hidden": false
   },
   "source": [
    "Note the use of `*` for **any** multiplication, and `**` for exponents. We can take derivatives:"
   ]
  },
  {
   "cell_type": "code",
   "execution_count": null,
   "metadata": {
    "hidden": false
   },
   "outputs": [],
   "source": [
    "sy.diff(f,x)"
   ]
  },
  {
   "cell_type": "code",
   "execution_count": null,
   "metadata": {
    "hidden": false
   },
   "outputs": [],
   "source": [
    "sy.diff(f,x,x)"
   ]
  },
  {
   "cell_type": "code",
   "execution_count": null,
   "metadata": {
    "hidden": false
   },
   "outputs": [],
   "source": [
    "sy.diff(g,x)"
   ]
  },
  {
   "cell_type": "code",
   "execution_count": null,
   "metadata": {
    "hidden": false
   },
   "outputs": [],
   "source": [
    "sy.diff(g,y)"
   ]
  },
  {
   "cell_type": "code",
   "execution_count": null,
   "metadata": {
    "hidden": false
   },
   "outputs": [],
   "source": [
    "sy.diff(g,x,y)-sy.diff(g,y,x)"
   ]
  },
  {
   "cell_type": "markdown",
   "metadata": {
    "hidden": false
   },
   "source": [
    "Note that for the function $g(x,y) = xye^{4xy}$ those are partial derivatives, and the fact that that last line is zero is a theorem!\n",
    "\n",
    "To do indefinite integrals, we just use the `integrate` command. We need to specify a function and the integration variable."
   ]
  },
  {
   "cell_type": "code",
   "execution_count": null,
   "metadata": {
    "hidden": false
   },
   "outputs": [],
   "source": [
    "sy.integrate(f,x)"
   ]
  },
  {
   "cell_type": "markdown",
   "metadata": {
    "hidden": false
   },
   "source": [
    "(Yes, that's some integration by parts you're seeing there!)\n",
    "\n",
    "For definite integrals, we just have to add in the limits of integration. But note that we need to enter the ordered triple `(x.0,sy.pi/2)`. This time, $\\pi$ comes from SymPy, not Numpy:"
   ]
  },
  {
   "cell_type": "code",
   "execution_count": null,
   "metadata": {
    "hidden": false
   },
   "outputs": [],
   "source": [
    "sy.integrate(f,(x,0,sy.pi/2))"
   ]
  },
  {
   "cell_type": "markdown",
   "metadata": {
    "hidden": false
   },
   "source": [
    "Just for fun: try changing `sp.pi` to `np.pi`. What happens to your output?"
   ]
  },
  {
   "cell_type": "code",
   "execution_count": null,
   "metadata": {
    "hidden": false
   },
   "outputs": [],
   "source": []
  },
  {
   "cell_type": "markdown",
   "metadata": {},
   "source": [
    "In summary, SymPy is great package for evaluating integrals and differentiation."
   ]
  },
  {
   "cell_type": "code",
   "execution_count": null,
   "metadata": {},
   "outputs": [],
   "source": []
  }
 ],
 "metadata": {
  "kernelspec": {
   "display_name": "Python 3",
   "language": "python",
   "name": "python3"
  },
  "language_info": {
   "codemirror_mode": {
    "name": "ipython",
    "version": 3
   },
   "file_extension": ".py",
   "mimetype": "text/x-python",
   "name": "python",
   "nbconvert_exporter": "python",
   "pygments_lexer": "ipython3",
   "version": "3.7.6"
  }
 },
 "nbformat": 4,
 "nbformat_minor": 5
}
