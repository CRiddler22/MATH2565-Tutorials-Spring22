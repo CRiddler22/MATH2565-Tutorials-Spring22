{
 "cells": [
  {
   "cell_type": "markdown",
   "id": "drawn-score",
   "metadata": {},
   "source": [
    "# Numpy and Sympy for Calculus\n",
    "\n",
    "Two useful packages for doing calculus in Python are Numpy (which allows for numerical computations) and Sympy (which supports symbolic manipulation). These can be used without any prior experience programming in Python (or at all), especially in the Jupyter notebook format, where code snippets can be provided for you to edit and run as needed.\n",
    "\n",
    "A great resource for using Python in mathematics is the [website of Patrick Walls at UBC](https://personal.math.ubc.ca/~pwalls/math-python/). In particular, you will find resources there on how to do root finding, numerical integration, and differential equations.\n",
    "\n",
    "## Numpy\n",
    "\n",
    "Often Numpy is used together with Matplotlib: we load these into Python as follows:"
   ]
  },
  {
   "cell_type": "code",
   "execution_count": null,
   "id": "soviet-judge",
   "metadata": {},
   "outputs": [],
   "source": [
    "import numpy as np\n",
    "import matplotlib.pyplot as plt\n",
    "%matplotlib inline"
   ]
  },
  {
   "cell_type": "markdown",
   "id": "powerful-scientist",
   "metadata": {},
   "source": [
    "The `import as` creates a prefix that allows us to call functions specific to each library. This can be important when multiple Python libraries are in use, because each might have a different definition of a particular function.\n",
    "\n",
    "Numpy defines all the common [mathematical functions](https://numpy.org/doc/stable/reference/routines.math.html) you'll need, such as the sine function. We would call the function $\\sin(x)$ using `np.sin` (note the `np` prefix). Here is how we would calculate the sine of an angle:"
   ]
  },
  {
   "cell_type": "code",
   "execution_count": null,
   "id": "rocky-circular",
   "metadata": {},
   "outputs": [],
   "source": [
    "np.sin(pi/3)"
   ]
  },
  {
   "cell_type": "markdown",
   "id": "37c46179",
   "metadata": {},
   "source": [
    "Did that not work? It's because `pi` is not a core object in Python! It's defined in Numpy though. Try replacing `pi` with `np.pi` and re-running the cell above.\n",
    "\n",
    "Now let's try plotting. First we have to define a function to plot."
   ]
  },
  {
   "cell_type": "code",
   "execution_count": null,
   "id": "52a5dc13",
   "metadata": {
    "hidden": false
   },
   "outputs": [],
   "source": [
    "def f(x):\n",
    "    return np.sin(x)"
   ]
  },
  {
   "cell_type": "markdown",
   "id": "30666da5",
   "metadata": {
    "hidden": false
   },
   "source": [
    "A faster way to define our function is to use Python's `lambda` syntax. We also could have done\n",
    "```\n",
    "f = lambda x : np.sin(x)\n",
    "```\n",
    "\n",
    "Plotting takes more than just defining the funciton -- we also have to define the input and output variables!\n",
    "\n",
    "The `linspace` command in Numpy produces a set of evenly spaced values. Here's how we set 100 points between $-\\pi$ and $\\pi$:"
   ]
  },
  {
   "cell_type": "code",
   "execution_count": null,
   "id": "69f341ff",
   "metadata": {
    "hidden": false
   },
   "outputs": [],
   "source": [
    "x = np.linspace(-np.pi,np.pi,100)"
   ]
  },
  {
   "cell_type": "markdown",
   "id": "64d119a5",
   "metadata": {
    "hidden": false
   },
   "source": [
    "Next, we can define $y$ as a function of $x$, and plot."
   ]
  },
  {
   "cell_type": "code",
   "execution_count": null,
   "id": "570d4832",
   "metadata": {
    "hidden": false
   },
   "outputs": [],
   "source": [
    "y = f(x)\n",
    "plt.plot(x,y)"
   ]
  },
  {
   "cell_type": "code",
   "execution_count": null,
   "id": "1cf3fd61",
   "metadata": {
    "hidden": false
   },
   "outputs": [],
   "source": []
  }
 ],
 "metadata": {
  "kernelspec": {
   "display_name": "Python 3 (ipykernel)",
   "language": "python",
   "name": "python3"
  },
  "language_info": {
   "codemirror_mode": {
    "name": "ipython",
    "version": 3
   },
   "file_extension": ".py",
   "mimetype": "text/x-python",
   "name": "python",
   "nbconvert_exporter": "python",
   "pygments_lexer": "ipython3",
   "version": "3.9.7"
  }
 },
 "nbformat": 4,
 "nbformat_minor": 5
}
