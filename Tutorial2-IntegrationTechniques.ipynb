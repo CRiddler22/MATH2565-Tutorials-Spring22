{
 "cells": [
  {
   "cell_type": "markdown",
   "metadata": {},
   "source": [
    "# Tutorial 2 - Integration Techniques\n",
    "Today we will be using the SymPy Python library in order to look at _Integration by Trigonometric Substitution_ and _Partial Fraction Decomposition_.\n",
    "\n",
    "Don't forget that SymPy requires you to first define any variables using the following command `x = sy.symbols('x')`."
   ]
  },
  {
   "cell_type": "code",
   "execution_count": 40,
   "metadata": {},
   "outputs": [],
   "source": [
    "import sympy as sy\n",
    "sy.init_printing()"
   ]
  },
  {
   "cell_type": "markdown",
   "metadata": {},
   "source": [
    "## Integration by Trigonometric Substitution\n",
    "The main idea behind trigonometric substitution is to allow us to evaluate an integral with two terms under a square root as discussed in __[Section 6.3](https://opentext.uleth.ca/apex-accelerated/sec_trig_sub.html)__ of the textbook. \n",
    "\n",
    "For each of the following questions discuss in your groups what substitution to use and find the new integrals. Then use the SymPy integral function to evaluate theses new integrals.\n",
    "### Question 1\n",
    "Evaluate the definite integral \n",
    "$$\\int \\frac{1}{\\sqrt{x^2+9}}\\,\\, dx$$\n",
    "> a. Using a trigonometric substitution"
   ]
  },
  {
   "cell_type": "code",
   "execution_count": null,
   "metadata": {},
   "outputs": [],
   "source": []
  },
  {
   "cell_type": "markdown",
   "metadata": {},
   "source": [
    "> b. Using a hyperbolic substitution"
   ]
  },
  {
   "cell_type": "code",
   "execution_count": null,
   "metadata": {},
   "outputs": [],
   "source": []
  },
  {
   "cell_type": "markdown",
   "metadata": {},
   "source": [
    "> c. Directly using the SymPy integral function."
   ]
  },
  {
   "cell_type": "code",
   "execution_count": null,
   "metadata": {},
   "outputs": [],
   "source": []
  },
  {
   "cell_type": "markdown",
   "metadata": {},
   "source": [
    "Are all three of your answers equivalent?"
   ]
  },
  {
   "cell_type": "markdown",
   "metadata": {},
   "source": [
    "> Double click here to edit and explain your answer."
   ]
  },
  {
   "cell_type": "markdown",
   "metadata": {},
   "source": [
    "### Question 2\n",
    "Evaluate the definite integral \n",
    "$$\\int x \\, \\sqrt{x^2-16}\\,\\, dx$$\n",
    "> a. Using a trigonometric substitution"
   ]
  },
  {
   "cell_type": "code",
   "execution_count": null,
   "metadata": {},
   "outputs": [],
   "source": []
  },
  {
   "cell_type": "markdown",
   "metadata": {},
   "source": [
    "> b. Using a hyperbolic substitution"
   ]
  },
  {
   "cell_type": "code",
   "execution_count": null,
   "metadata": {},
   "outputs": [],
   "source": []
  },
  {
   "cell_type": "markdown",
   "metadata": {},
   "source": [
    "> c. Directly using the SymPy integral function."
   ]
  },
  {
   "cell_type": "code",
   "execution_count": null,
   "metadata": {},
   "outputs": [],
   "source": []
  },
  {
   "cell_type": "markdown",
   "metadata": {},
   "source": [
    "Are all three of your answers equivalent?"
   ]
  },
  {
   "cell_type": "markdown",
   "metadata": {},
   "source": [
    "> Double click here to edit and explain your answer."
   ]
  },
  {
   "cell_type": "markdown",
   "metadata": {},
   "source": [
    "## Partial Fraction Decomposition\n",
    "Partial fraction decomposition is a useful process when integrating many rational function as discussed in __[Section 6.4](https://opentext.uleth.ca/apex-accelerated/sec_partial_fraction.html)__ of the textbook. \n",
    "\n",
    "Using the SymPy functors in your small groups practice finding the partial fraction decomposition.\n",
    "### Question 3\n",
    "Find the partial fraction decomposition of the following function \n",
    "$$ \\frac{3x^2 +2x +1}{x^4 + x^3 + x^2 + x}.$$\n",
    "\n",
    "Begin by factoring the denominator using `sy.factor`."
   ]
  },
  {
   "cell_type": "code",
   "execution_count": null,
   "metadata": {},
   "outputs": [],
   "source": [
    "x = sy.Symbol('x')\n",
    "sy.factor(x)"
   ]
  },
  {
   "cell_type": "markdown",
   "metadata": {},
   "source": [
    ">Rewrite the fraction in partial fraction form. For example\n",
    "$$ \\frac{x}{x(x+1)} = \\frac{a}{x}+\\frac{b}{x+1} = \\frac{a(x+1) + bx}{x(x+1)}. $$\n",
    "\n",
    "Evaluate the factor the numerator using the following input:"
   ]
  },
  {
   "cell_type": "code",
   "execution_count": null,
   "metadata": {},
   "outputs": [],
   "source": [
    "a, b, c, x = sy.symbols('a b c x')\n",
    "f=(a*x**2+b*x +c).expand(basic=True)\n",
    "sy.collect(f,x)"
   ]
  },
  {
   "cell_type": "markdown",
   "metadata": {},
   "source": [
    "Define a matrix A and vector B to represent the system of linear equations."
   ]
  },
  {
   "cell_type": "code",
   "execution_count": null,
   "metadata": {},
   "outputs": [],
   "source": []
  },
  {
   "cell_type": "markdown",
   "metadata": {},
   "source": [
    "Solve the system of linear equations using either an augmented matrix or matrix algebra. You may need to use Google to aid you in this step."
   ]
  },
  {
   "cell_type": "code",
   "execution_count": null,
   "metadata": {},
   "outputs": [],
   "source": []
  },
  {
   "cell_type": "markdown",
   "metadata": {},
   "source": [
    "Find the partial fraction decomposition directly using the `apart` function."
   ]
  },
  {
   "cell_type": "code",
   "execution_count": null,
   "metadata": {},
   "outputs": [],
   "source": []
  },
  {
   "cell_type": "markdown",
   "metadata": {},
   "source": [
    "Do the two answers agree?"
   ]
  },
  {
   "cell_type": "markdown",
   "metadata": {},
   "source": [
    "> Double click here to edit and explain your answer."
   ]
  },
  {
   "cell_type": "markdown",
   "metadata": {},
   "source": [
    "### Challenge\n",
    "Using your code for question 3. Find the partial fraction decomposition of the following function \n",
    "$$ \\frac{3x^2 +2x +1}{x^4 + x^2}.$$"
   ]
  },
  {
   "cell_type": "code",
   "execution_count": null,
   "metadata": {},
   "outputs": [],
   "source": []
  }
 ],
 "metadata": {
  "kernelspec": {
   "display_name": "Python 3",
   "language": "python",
   "name": "python3"
  },
  "language_info": {
   "codemirror_mode": {
    "name": "ipython",
    "version": 3
   },
   "file_extension": ".py",
   "mimetype": "text/x-python",
   "name": "python",
   "nbconvert_exporter": "python",
   "pygments_lexer": "ipython3",
   "version": "3.7.6"
  }
 },
 "nbformat": 4,
 "nbformat_minor": 4
}
