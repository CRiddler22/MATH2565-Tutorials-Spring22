{
 "cells": [
  {
   "cell_type": "markdown",
   "metadata": {},
   "source": [
    "# Tutorial 2 - Integration Techniques\n",
    "Today we will be using the SymPy Python library in order to look at _Integration by Trigonometric Substitution_ and _Partial Fraction Decomposition_.\n",
    "\n",
    "Don't forget that SymPy requires you to first define any variables using the following command `x = sy.symbols('x')`."
   ]
  },
  {
   "cell_type": "code",
   "execution_count": 1,
   "metadata": {},
   "outputs": [],
   "source": [
    "import sympy as sy\n",
    "sy.init_printing()"
   ]
  },
  {
   "cell_type": "markdown",
   "metadata": {},
   "source": [
    "## Integration by Trigonometric Substitution\n",
    "The main idea behind trigonometric substitution is to allow us to evaluate an integral with two terms under a square root as discussed in __[Section 6.3](https://opentext.uleth.ca/apex-accelerated/sec_trig_sub.html)__ of the textbook. \n",
    "\n",
    "For each of the following questions discuss in your groups what substitution to use and find the new integrals. Then use the SymPy integral function to evaluate theses new integrals.\n",
    "### Question 1\n",
    "Evaluate the definite integral \n",
    "$$\\int \\frac{1}{\\sqrt{x^2+9}}\\,\\, dx$$\n",
    "> a. Using a trigonometric substitution"
   ]
  },
  {
   "cell_type": "markdown",
   "metadata": {
    "hidden": false
   },
   "source": [
    "The pattern $x^2+9$ suggests a tangent substitution: $x=3\\tan\\theta$, so $dx=3\\sec^2\\theta d\\theta$ and $\\sqrt{x^2+9} = 3\\sec\\theta$.\n",
    "The integral becomes\n",
    "$$\\int \\frac{3\\sec^2\\theta}{3\\sec\\theta}d\\theta = \\int \\sec\\theta d\\theta = \\ln\\lvert \\sec\\theta+\\tan\\theta\\rvert +C$$"
   ]
  },
  {
   "cell_type": "code",
   "execution_count": 4,
   "metadata": {},
   "outputs": [
    {
     "data": {
      "image/png": "[encoded data removed]",
      "text/latex": [
       "$\\displaystyle - \\frac{\\log{\\left(\\sin{\\left(t \\right)} - 1 \\right)}}{2} + \\frac{\\log{\\left(\\sin{\\left(t \\right)} + 1 \\right)}}{2}$"
      ],
      "text/plain": [
       "  log(sin(t) - 1)   log(sin(t) + 1)\n",
       "- ─────────────── + ───────────────\n",
       "         2                 2       "
      ]
     },
     "execution_count": 4,
     "metadata": {},
     "output_type": "execute_result"
    }
   ],
   "source": [
    "t = sy.symbols('t')\n",
    "sy.integrate(sy.sec(t),t)"
   ]
  },
  {
   "cell_type": "markdown",
   "metadata": {
    "hidden": false
   },
   "source": []
  },
  {
   "cell_type": "markdown",
   "metadata": {},
   "source": [
    "> b. Using a hyperbolic substitution"
   ]
  },
  {
   "cell_type": "markdown",
   "metadata": {
    "hidden": false
   },
   "source": [
    "We try $x=3\\sinh(t)$, so that $dx=3\\cosh(t)\\,dx$, and $x^2+9 = 9(\\sinh^2(t)+1)=9\\cosh^2(t))$, so\n",
    "$$\\int\\frac{1}{\\sqrt{x^2+9}}\\,dx = \\int \\frac{3\\cosh(t)}{3\\cosh(t)}\\,dt = \\int dt = t+C = \\sinh^{-1}(x/3)+C$$"
   ]
  },
  {
   "cell_type": "markdown",
   "metadata": {},
   "source": [
    "> c. Directly using the SymPy integral function."
   ]
  },
  {
   "cell_type": "code",
   "execution_count": 6,
   "metadata": {},
   "outputs": [
    {
     "data": {
      "image/png": "[encoded data removed]",
      "text/latex": [
       "$\\displaystyle \\operatorname{asinh}{\\left(\\frac{x}{3} \\right)}$"
      ],
      "text/plain": [
       "     ⎛x⎞\n",
       "asinh⎜─⎟\n",
       "     ⎝3⎠"
      ]
     },
     "execution_count": 6,
     "metadata": {},
     "output_type": "execute_result"
    }
   ],
   "source": [
    "x = sy.symbols('x')\n",
    "sy.integrate(1/sy.sqrt(x**2+9),x)"
   ]
  },
  {
   "cell_type": "markdown",
   "metadata": {},
   "source": [
    "Are all three of your answers equivalent?"
   ]
  },
  {
   "cell_type": "markdown",
   "metadata": {},
   "source": [
    "> Double click here to edit and explain your answer."
   ]
  },
  {
   "cell_type": "markdown",
   "metadata": {},
   "source": [
    "### Question 2\n",
    "Evaluate the definite integral \n",
    "$$\\int x \\, \\sqrt{x^2-16}\\,\\, dx$$\n",
    "> a. Using a trigonometric substitution"
   ]
  },
  {
   "cell_type": "markdown",
   "metadata": {
    "hidden": false
   },
   "source": [
    "Put $x=4\\sec\\theta$, so $dx=4\\sec\\theta\\tan\\theta\\,d\\theta$ and $x^2-16 = 16\\tan^2\\theta$. Then\n",
    "$$\\int x\\sqrt{x^2-16}\\,dx = \\int 4\\sec\\theta(4\\tan\\theta)\\cdot 4\\sec\\theta\\tan\\theta\\,d\\theta = 64\\int \\sec^2\\theta\\tan^2\\theta\\,d\\theta$$"
   ]
  },
  {
   "cell_type": "code",
   "execution_count": 7,
   "metadata": {},
   "outputs": [
    {
     "data": {
      "image/png": "[encoded data removed]",
      "text/latex": [
       "$\\displaystyle - \\frac{64 \\sin{\\left(t \\right)}}{3 \\cos{\\left(t \\right)}} + \\frac{64 \\sin{\\left(t \\right)}}{3 \\cos^{3}{\\left(t \\right)}}$"
      ],
      "text/plain": [
       "  64⋅sin(t)   64⋅sin(t)\n",
       "- ───────── + ─────────\n",
       "   3⋅cos(t)        3   \n",
       "              3⋅cos (t)"
      ]
     },
     "execution_count": 7,
     "metadata": {},
     "output_type": "execute_result"
    }
   ],
   "source": [
    "sy.integrate(64*(sy.sec(t))**2*(sy.tan(t))**2,t)"
   ]
  },
  {
   "cell_type": "markdown",
   "metadata": {},
   "source": [
    "> b. Using a hyperbolic substitution"
   ]
  },
  {
   "cell_type": "markdown",
   "metadata": {
    "hidden": false
   },
   "source": [
    "This time, if we put $x=4\\cosh(t)$, we get $dx = 4\\sinh(t)$ and $x^2-16 = 16\\cosh^2(t)-16=16\\sinh^2(t)$. Therefore,\n",
    "$$\\int x\\sqrt{x^2-16}\\,dx = \\int 4\\cosh(t)(4\\sinh(t))\\cdot 4\\sinh(t)\\,dt = 64\\int \\sinh^2(t)\\cosh(t)\\,dt$$"
   ]
  },
  {
   "cell_type": "code",
   "execution_count": 9,
   "metadata": {},
   "outputs": [
    {
     "data": {
      "image/png": "[encoded data removed]",
      "text/latex": [
       "$\\displaystyle \\frac{64 \\sinh^{3}{\\left(t \\right)}}{3}$"
      ],
      "text/plain": [
       "       3   \n",
       "64⋅sinh (t)\n",
       "───────────\n",
       "     3     "
      ]
     },
     "execution_count": 9,
     "metadata": {},
     "output_type": "execute_result"
    }
   ],
   "source": [
    "sy.integrate(64*(sy.sinh(t))**2*sy.cosh(t),t)"
   ]
  },
  {
   "cell_type": "markdown",
   "metadata": {},
   "source": [
    "> c. Directly using the SymPy integral function."
   ]
  },
  {
   "cell_type": "code",
   "execution_count": 10,
   "metadata": {},
   "outputs": [
    {
     "data": {
      "image/png": "[encoded data removed]",
      "text/latex": [
       "$\\displaystyle \\frac{x^{2} \\sqrt{x^{2} - 16}}{3} - \\frac{16 \\sqrt{x^{2} - 16}}{3}$"
      ],
      "text/plain": [
       "      _________         _________\n",
       " 2   ╱  2              ╱  2      \n",
       "x ⋅╲╱  x  - 16    16⋅╲╱  x  - 16 \n",
       "─────────────── - ───────────────\n",
       "       3                 3       "
      ]
     },
     "execution_count": 10,
     "metadata": {},
     "output_type": "execute_result"
    }
   ],
   "source": [
    "sy.integrate(x*sy.sqrt(x**2-16),x)"
   ]
  },
  {
   "cell_type": "markdown",
   "metadata": {},
   "source": [
    "Are all three of your answers equivalent?"
   ]
  },
  {
   "cell_type": "markdown",
   "metadata": {},
   "source": [
    "For $x=4\\sec(\\theta)$, we have $\\sec(\\theta)=x/4$ and $\\tan(\\theta) = \\frac14\\sqrt{x^2-16}$. The output we got above can be written as\n",
    "$$\\frac13\\left(-64\\tan(\\theta)+64\\tan\\theta\\sec^2(\\theta)\\right)=\\frac{64}{3}\\left(-\\frac14\\sqrt{x^2-16}+\\frac{x^2}{16}\\cdot\\frac14\\sqrt{x^2-16}\\right),$$\n",
    "which simplifies to the answer above.\n",
    "\n",
    "For $x=4\\cosh(t)$, we get\n",
    "$$\\frac{64}{3}\\sinh^3(t) = \\frac{64}{3}\\left(\\frac{1}{4^3}(x^2-16)^{3/2}\\right)=\\frac13\\left(\\sqrt{x^2-16}(x^2-16)\\right),$$\n",
    "which also simplifies to the answer above once we expand."
   ]
  },
  {
   "cell_type": "markdown",
   "metadata": {},
   "source": [
    "## Partial Fraction Decomposition\n",
    "Partial fraction decomposition is a useful process when integrating many rational function as discussed in __[Section 6.4](https://opentext.uleth.ca/apex-accelerated/sec_partial_fraction.html)__ of the textbook. \n",
    "\n",
    "Using the SymPy functors in your small groups practice finding the partial fraction decomposition.\n",
    "### Question 3\n",
    "Find the partial fraction decomposition of the following function \n",
    "$$ \\frac{3x^2 +2x +1}{x^4 + x^3 + x^2 + x}.$$\n",
    "\n",
    "Begin by factoring the denominator using `sy.factor`."
   ]
  },
  {
   "cell_type": "code",
   "execution_count": 11,
   "metadata": {},
   "outputs": [
    {
     "data": {
      "image/png": "[encoded data removed]",
      "text/latex": [
       "$\\displaystyle x \\left(x + 1\\right) \\left(x^{2} + 1\\right)$"
      ],
      "text/plain": [
       "          ⎛ 2    ⎞\n",
       "x⋅(x + 1)⋅⎝x  + 1⎠"
      ]
     },
     "execution_count": 11,
     "metadata": {},
     "output_type": "execute_result"
    }
   ],
   "source": [
    "x = sy.Symbol('x')\n",
    "sy.factor(x**4+x**3+x**2+x,x)"
   ]
  },
  {
   "cell_type": "markdown",
   "metadata": {},
   "source": [
    ">Rewrite the fraction in partial fraction form. For example\n",
    "$$ \\frac{x}{x(x+1)} = \\frac{a}{x}+\\frac{b}{x+1} = \\frac{a(x+1) + bx}{x(x+1)}. $$\n",
    "\n",
    "Evaluate the factor the numerator using the following input:"
   ]
  },
  {
   "cell_type": "markdown",
   "metadata": {
    "hidden": false
   },
   "source": [
    "We have\n",
    "$$\\frac{a}{x}+\\frac{b}{x+1}+\\frac{cx+d}{x^2+1} = \\frac{a(x+1)(x^2+1)+bx(x^2+1)+(cx+d)x(x+1)}{x(x+1)(x^2+1)} = \\frac{3x^2+2x+1}{x^4+x^3+x^2+x},$$\n",
    "so \n",
    "$$a(x+1)(x^2+1)+bx(x^2+1)+(cx+d)x(x+1)=3x^2+2x+1$$"
   ]
  },
  {
   "cell_type": "code",
   "execution_count": 13,
   "metadata": {},
   "outputs": [
    {
     "data": {
      "image/png": "[encoded data removed]",
      "text/latex": [
       "$\\displaystyle a + x^{3} \\left(a + b + c\\right) + x^{2} \\left(a + c + d\\right) + x \\left(a + b + d\\right)$"
      ],
      "text/plain": [
       "     3                2                            \n",
       "a + x ⋅(a + b + c) + x ⋅(a + c + d) + x⋅(a + b + d)"
      ]
     },
     "execution_count": 13,
     "metadata": {},
     "output_type": "execute_result"
    }
   ],
   "source": [
    "a, b, c, d, x = sy.symbols('a b c d x')\n",
    "f=(a*(x+1)*(x**2+1)+b*x*(x**2+1)+(c*x+d)*x*(x+1)).expand(basic=True)\n",
    "sy.collect(f,x)"
   ]
  },
  {
   "cell_type": "markdown",
   "metadata": {},
   "source": [
    "Define a matrix A and vector B to represent the system of linear equations."
   ]
  },
  {
   "cell_type": "markdown",
   "metadata": {
    "hidden": false
   },
   "source": [
    "We have\n",
    "$$(a+b+c)x^3+(a+c+d)x^2+(a+b+d)x+a=3x^2+2x+1,$$\n",
    "so\n",
    "$$\\begin{aligned}\n",
    "1a+1b+1c+0d&=0\\\\\n",
    "1a+0b+1c+1d&=3\\\\\n",
    "1a+1b+0c+1d&=2\\\\\n",
    "1a+0b+0c+0d&=1\\end{aligned}$$\n",
    "\n",
    "That gives:"
   ]
  },
  {
   "cell_type": "code",
   "execution_count": 14,
   "metadata": {},
   "outputs": [
    {
     "data": {
      "image/png": "[encoded data removed]",
      "text/latex": [
       "$\\displaystyle \\left( \\left[\\begin{matrix}1 & 1 & 1 & 0\\\\1 & 0 & 1 & 1\\\\1 & 1 & 0 & 1\\\\1 & 0 & 0 & 0\\end{matrix}\\right], \\  \\left[\\begin{matrix}0\\\\3\\\\2\\\\1\\end{matrix}\\right]\\right)$"
      ],
      "text/plain": [
       "⎛⎡1  1  1  0⎤  ⎡0⎤⎞\n",
       "⎜⎢          ⎥  ⎢ ⎥⎟\n",
       "⎜⎢1  0  1  1⎥  ⎢3⎥⎟\n",
       "⎜⎢          ⎥, ⎢ ⎥⎟\n",
       "⎜⎢1  1  0  1⎥  ⎢2⎥⎟\n",
       "⎜⎢          ⎥  ⎢ ⎥⎟\n",
       "⎝⎣1  0  0  0⎦  ⎣1⎦⎠"
      ]
     },
     "execution_count": 14,
     "metadata": {},
     "output_type": "execute_result"
    }
   ],
   "source": [
    "A = sy.Matrix([[1,1,1,0],[1,0,1,1],[1,1,0,1],[1,0,0,0]])\n",
    "B = sy.Matrix([0,3,2,1])\n",
    "A,B"
   ]
  },
  {
   "cell_type": "markdown",
   "metadata": {},
   "source": [
    "Solve the system of linear equations using either an augmented matrix or matrix algebra. You may need to use Google to aid you in this step."
   ]
  },
  {
   "cell_type": "code",
   "execution_count": 15,
   "metadata": {},
   "outputs": [
    {
     "data": {
      "image/png": "[encoded data removed]",
      "text/latex": [
       "$\\displaystyle \\left[\\begin{matrix}1\\\\-1\\\\0\\\\2\\end{matrix}\\right]$"
      ],
      "text/plain": [
       "⎡1 ⎤\n",
       "⎢  ⎥\n",
       "⎢-1⎥\n",
       "⎢  ⎥\n",
       "⎢0 ⎥\n",
       "⎢  ⎥\n",
       "⎣2 ⎦"
      ]
     },
     "execution_count": 15,
     "metadata": {},
     "output_type": "execute_result"
    }
   ],
   "source": [
    "A**(-1)*B"
   ]
  },
  {
   "cell_type": "markdown",
   "metadata": {
    "hidden": false
   },
   "source": [
    "This gives us $a=1, b=-1, c=0, d=2$."
   ]
  },
  {
   "cell_type": "markdown",
   "metadata": {},
   "source": [
    "Find the partial fraction decomposition directly using the `apart` function."
   ]
  },
  {
   "cell_type": "code",
   "execution_count": 16,
   "metadata": {},
   "outputs": [
    {
     "data": {
      "image/png": "[encoded data removed]",
      "text/latex": [
       "$\\displaystyle \\frac{2}{x^{2} + 1} - \\frac{1}{x + 1} + \\frac{1}{x}$"
      ],
      "text/plain": [
       "  2        1     1\n",
       "────── - ───── + ─\n",
       " 2       x + 1   x\n",
       "x  + 1            "
      ]
     },
     "execution_count": 16,
     "metadata": {},
     "output_type": "execute_result"
    }
   ],
   "source": [
    "g = (3*x**2+2*x+1)/(x**4+x**3+x**2+x)\n",
    "g.apart()"
   ]
  },
  {
   "cell_type": "markdown",
   "metadata": {},
   "source": [
    "Do the two answers agree?"
   ]
  },
  {
   "cell_type": "markdown",
   "metadata": {},
   "source": [
    "They do! Our answer above predicted the decomposition $\\frac1x-\\frac{1}{x+1}+\\frac{2}{x^2+1}$, which is the same as what we get from `apart`."
   ]
  },
  {
   "cell_type": "markdown",
   "metadata": {},
   "source": [
    "### Challenge\n",
    "Using your code for question 3. Find the partial fraction decomposition of the following function \n",
    "$$ \\frac{3x^2 +2x +1}{x^4 + x^2}.$$"
   ]
  },
  {
   "cell_type": "code",
   "execution_count": 17,
   "metadata": {},
   "outputs": [
    {
     "data": {
      "image/png": "[encoded data removed]",
      "text/latex": [
       "$\\displaystyle x^{2} \\left(x^{2} + 1\\right)$"
      ],
      "text/plain": [
       " 2 ⎛ 2    ⎞\n",
       "x ⋅⎝x  + 1⎠"
      ]
     },
     "execution_count": 17,
     "metadata": {},
     "output_type": "execute_result"
    }
   ],
   "source": [
    "sy.factor(x**4+x**2)"
   ]
  },
  {
   "cell_type": "markdown",
   "metadata": {
    "hidden": false
   },
   "source": [
    "We have\n",
    "$$\\frac{3x^2+2x+1}{x^4+x^2} = \\frac{a}{x}+\\frac{b}{x^2}+\\frac{cx+d}{x^2+1} = \\frac{ax(x^2+1)+b(x^2+1)+(cx+d)x^2}{x^4+x^2}$$"
   ]
  },
  {
   "cell_type": "code",
   "execution_count": 18,
   "metadata": {
    "hidden": false
   },
   "outputs": [
    {
     "data": {
      "image/png": "[encoded data removed]",
      "text/latex": [
       "$\\displaystyle a x + b + x^{3} \\left(a + c\\right) + x^{2} \\left(b + d\\right)$"
      ],
      "text/plain": [
       "           3            2        \n",
       "a⋅x + b + x ⋅(a + c) + x ⋅(b + d)"
      ]
     },
     "execution_count": 18,
     "metadata": {},
     "output_type": "execute_result"
    }
   ],
   "source": [
    "a, b, c, d, x = sy.symbols('a b c d x')\n",
    "f=(a*x*(x**2+1)+b*(x**2+1)+(c*x+d)*x**2).expand(basic=True)\n",
    "sy.collect(f,x)"
   ]
  },
  {
   "cell_type": "markdown",
   "metadata": {
    "hidden": false
   },
   "source": [
    "So this time, $a+c=0, b+d=3, a=2, b=1$. We don't even really need the matrix. Already $a=2$ and $b=1$. Then $c=-a=-2$ and $d=3-b=2$. Therefore,\n",
    "$$\\frac{3x^2+2x+1}{x^4+x^2} = \\frac2x+\\frac{1}{x^2}+\\frac{2-2x}{x^2+1}.$$\n",
    "\n",
    "Confirming with `apart`, we get:"
   ]
  },
  {
   "cell_type": "code",
   "execution_count": 19,
   "metadata": {
    "hidden": false
   },
   "outputs": [
    {
     "data": {
      "image/png": "[encoded data removed]",
      "text/latex": [
       "$\\displaystyle - \\frac{2 \\left(x - 1\\right)}{x^{2} + 1} + \\frac{2}{x} + \\frac{1}{x^{2}}$"
      ],
      "text/plain": [
       "  2⋅(x - 1)   2   1 \n",
       "- ───────── + ─ + ──\n",
       "     2        x    2\n",
       "    x  + 1        x "
      ]
     },
     "execution_count": 19,
     "metadata": {},
     "output_type": "execute_result"
    }
   ],
   "source": [
    "g = (3*x**2+2*x+1)/(x**4+x**2)\n",
    "g.apart()"
   ]
  },
  {
   "cell_type": "code",
   "execution_count": null,
   "metadata": {
    "hidden": false
   },
   "outputs": [],
   "source": []
  }
 ],
 "metadata": {
  "kernelspec": {
   "display_name": "Python 3 (ipykernel)",
   "language": "python",
   "name": "python3"
  },
  "language_info": {
   "codemirror_mode": {
    "name": "ipython",
    "version": 3
   },
   "file_extension": ".py",
   "mimetype": "text/x-python",
   "name": "python",
   "nbconvert_exporter": "python",
   "pygments_lexer": "ipython3",
   "version": "3.9.7"
  }
 },
 "nbformat": 4,
 "nbformat_minor": 4
}
