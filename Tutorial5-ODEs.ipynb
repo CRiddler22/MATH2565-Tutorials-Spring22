{
 "cells": [
  {
   "cell_type": "markdown",
   "metadata": {},
   "source": [
    "# Tutorial 5\n",
    "Today we will be using the Numpy and SciPy Python libraries in order to numerical approximate solutions to _Ordinary Differential Equations_ using the Euler method. The session will build on the Jupyter notebooks which you have been using in class this week."
   ]
  },
  {
   "cell_type": "code",
   "execution_count": 32,
   "metadata": {},
   "outputs": [],
   "source": [
    "import numpy as np\n",
    "import matplotlib.pyplot as plt\n",
    "from scipy.integrate import odeint\n",
    "%matplotlib inline"
   ]
  },
  {
   "cell_type": "markdown",
   "metadata": {},
   "source": [
    "## Euler's Method\n",
    "\n",
    "- Essentially a numerical counterpart to slope fields.\n",
    "- Recall the linear approximation $$g(x_0+\\Delta x) \\approx g(x_0) + g'(x_0)\\Delta x$$.\n",
    "- Given $y'=f(x,y)$, look for solution $y=g(x)$ with initial condition $g(x_0)=y_0$.\n",
    "- Notice $g'(x_0) = f(x_0,y_0)$.\n",
    "- Proceed in \"steps\", with fixed **step size** $\\Delta x$ as follows:\n",
    "\n",
    "1. $(x_0,y_0)$ is given.\n",
    "2. $x_1 = x_0+\\Delta x$ and $y_1 = y_0+f(x_0,y_0)\\Delta x$\n",
    "3. $x_2 = x_0+2\\Delta x$ and $y_2 = y_1+f(x_1,y_1)\\Delta x$\n",
    "4. $x_3 = x_0+3\\Delta x$ and $y_3 = y_2+f(x_2,y_2)\\Delta x$\n",
    "\n",
    "etc."
   ]
  },
  {
   "cell_type": "markdown",
   "metadata": {},
   "source": [
    "### Code for Euler's Method\n",
    "\n",
    "The following is borrowed from [Patrick Walls at UBC](https://www.math.ubc.ca/~pwalls/math-python/differential-equations/first-order/). We define a function called odeEuler that implements the steps outlined above.\n",
    "\n",
    "Input is an ODE of the form $y'=f(y,t)$. Syntax is `odeEuler(f,y0,t)`, where:\n",
    "- `f` is our function\n",
    "- `y0` is the initial value for $y$, corresponding to the value in `t` at index 0.\n",
    "- `t` is a NumPy array (the values to be used for the steps)"
   ]
  },
  {
   "cell_type": "code",
   "execution_count": 26,
   "metadata": {},
   "outputs": [],
   "source": [
    "def odeEuler(f,y0,t):\n",
    "    y = np.zeros(len(t))\n",
    "    y[0] = y0\n",
    "    for n in range(0,len(t)-1):\n",
    "        y[n+1] = y[n] + f(y[n],t[n])*(t[n+1] - t[n])\n",
    "    return y"
   ]
  },
  {
   "cell_type": "markdown",
   "metadata": {},
   "source": [
    "The output is a NumPy array containing the $y$ values correpsonding to the $t$ values in `t`.<br><br>\n",
    "Using the ideas from the previous class, in the next cell define your function, create the sample $t$ values using `np.linspace(a,b,n)`, and then the corresponding $y$ values.  Note $[a,b]$ is the interval of $t$ and $n$ is the number of sample points (including the endpoints)."
   ]
  },
  {
   "cell_type": "code",
   "execution_count": 43,
   "metadata": {},
   "outputs": [
    {
     "data": {
      "text/plain": [
       "(array([0. , 0.1, 0.2, 0.3, 0.4, 0.5, 0.6, 0.7, 0.8, 0.9, 1. ]),\n",
       " array([1.        , 1.1       , 1.22      , 1.35921569, 1.51586137,\n",
       "        1.68755487, 1.8717615 , 2.06611882, 2.26859892, 2.4775463 ,\n",
       "        2.69164755]))"
      ]
     },
     "execution_count": 43,
     "metadata": {},
     "output_type": "execute_result"
    }
   ],
   "source": []
  },
  {
   "cell_type": "markdown",
   "metadata": {},
   "source": [
    "#### Checking the solution\n",
    "\n",
    "How well does our algorithm work? We can plot our values against the exact ones.<br>"
   ]
  },
  {
   "cell_type": "code",
   "execution_count": 44,
   "metadata": {},
   "outputs": [
    {
     "data": {
      "image/png": "[encoded data removed]",
      "text/plain": [
       "<Figure size 432x288 with 1 Axes>"
      ]
     },
     "metadata": {
      "needs_background": "light"
     },
     "output_type": "display_data"
    }
   ],
   "source": [
    "y_exact = \n",
    "y_euler = odeEuler(f,y0,t)\n",
    "plt.plot(t,y_euler,'b.-',t,y_exact,'r-')\n",
    "plt.legend(['Euler','Exact'])\n",
    "plt.axis([0,3,0,3])\n",
    "plt.grid(True)\n",
    "plt.show()"
   ]
  },
  {
   "cell_type": "markdown",
   "metadata": {},
   "source": []
  }
 ],
 "metadata": {
  "kernelspec": {
   "display_name": "Python 3",
   "language": "python",
   "name": "python3"
  },
  "language_info": {
   "codemirror_mode": {
    "name": "ipython",
    "version": 3
   },
   "file_extension": ".py",
   "mimetype": "text/x-python",
   "name": "python",
   "nbconvert_exporter": "python",
   "pygments_lexer": "ipython3",
   "version": "3.7.6"
  }
 },
 "nbformat": 4,
 "nbformat_minor": 4
}
